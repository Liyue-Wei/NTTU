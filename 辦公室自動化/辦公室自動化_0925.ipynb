{
 "cells": [
  {
   "cell_type": "markdown",
   "metadata": {},
   "source": [
    "## 辦公室自動化(09/25)"
   ]
  },
  {
   "cell_type": "code",
   "execution_count": 151,
   "metadata": {},
   "outputs": [
    {
     "name": "stdout",
     "output_type": "stream",
     "text": [
      "0\n",
      "1\n",
      "3\n",
      "6\n",
      "10\n",
      "15\n",
      "21\n",
      "28\n",
      "36\n",
      "45\n",
      "45\n"
     ]
    }
   ],
   "source": [
    "sum=0\n",
    "for i in range(0, 10):\n",
    "    sum+=i\n",
    "    print(sum)\n",
    "print(sum)"
   ]
  },
  {
   "cell_type": "code",
   "execution_count": 152,
   "metadata": {},
   "outputs": [
    {
     "name": "stdout",
     "output_type": "stream",
     "text": [
      "[0, 1, 2, 3, 4, 5, 6, 7, 8, 9]\n"
     ]
    }
   ],
   "source": [
    "range_index = list(range(10))\n",
    "print(range_index)"
   ]
  },
  {
   "cell_type": "code",
   "execution_count": 153,
   "metadata": {},
   "outputs": [
    {
     "name": "stdout",
     "output_type": "stream",
     "text": [
      "優秀\n"
     ]
    }
   ],
   "source": [
    "sorce = 100\n",
    "\n",
    "if(sorce<60):\n",
    "    print(\"及格\")\n",
    "\n",
    "else:\n",
    "    if(sorce<=85):\n",
    "        print(\"良好\")\n",
    "\n",
    "    else:\n",
    "        print(\"優秀\")"
   ]
  },
  {
   "cell_type": "code",
   "execution_count": 154,
   "metadata": {},
   "outputs": [
    {
     "name": "stdout",
     "output_type": "stream",
     "text": [
      "不及格\n"
     ]
    }
   ],
   "source": [
    "sorce = 38\n",
    "\n",
    "if(sorce>60):\n",
    "    if(sorce<=85):\n",
    "        print(\"良好\")\n",
    "\n",
    "    else:\n",
    "        print(\"優秀\")\n",
    "\n",
    "else:\n",
    "    print(\"不及格\")"
   ]
  },
  {
   "cell_type": "code",
   "execution_count": 155,
   "metadata": {},
   "outputs": [
    {
     "name": "stdout",
     "output_type": "stream",
     "text": [
      "一般\n"
     ]
    }
   ],
   "source": [
    "sorce = 60\n",
    "\n",
    "if(sorce<60):\n",
    "    print(\"不及格\")\n",
    "\n",
    "elif(sorce<80):\n",
    "    print(\"一般\")\n",
    "\n",
    "elif(sorce<=90):\n",
    "    print(\"良好\")\n",
    "\n",
    "else:\n",
    "    print(\"優秀\")"
   ]
  },
  {
   "cell_type": "code",
   "execution_count": 156,
   "metadata": {},
   "outputs": [
    {
     "name": "stdout",
     "output_type": "stream",
     "text": [
      "1\n",
      "2\n",
      "3\n",
      "4\n",
      "5\n",
      "6\n",
      "7\n",
      "8\n",
      "9\n",
      "45\n"
     ]
    }
   ],
   "source": [
    "i=1\n",
    "sum=0\n",
    "while(i<10):\n",
    "    print(i)\n",
    "    sum+=i\n",
    "    i+=1\n",
    "\n",
    "print(sum)"
   ]
  },
  {
   "cell_type": "code",
   "execution_count": 157,
   "metadata": {},
   "outputs": [
    {
     "data": {
      "text/plain": [
       "True"
      ]
     },
     "execution_count": 157,
     "metadata": {},
     "output_type": "execute_result"
    }
   ],
   "source": [
    "1<10"
   ]
  },
  {
   "cell_type": "code",
   "execution_count": 158,
   "metadata": {},
   "outputs": [
    {
     "name": "stdout",
     "output_type": "stream",
     "text": [
      "1\n",
      "2\n",
      "3\n",
      "4\n",
      "5\n",
      "6\n",
      "7\n",
      "8\n",
      "9\n",
      "45\n"
     ]
    }
   ],
   "source": [
    "i=1\n",
    "sum=0\n",
    "while(True):\n",
    "    print(i)\n",
    "    sum+=i\n",
    "    i+=1\n",
    "\n",
    "    if(i==10):\n",
    "        break\n",
    "\n",
    "print(sum)"
   ]
  },
  {
   "cell_type": "code",
   "execution_count": 159,
   "metadata": {},
   "outputs": [
    {
     "name": "stdout",
     "output_type": "stream",
     "text": [
      "1\n",
      "2\n",
      "3\n",
      "4\n"
     ]
    }
   ],
   "source": [
    "i=0\n",
    "while(i<10):\n",
    "    i+=1\n",
    "    if(i==5):\n",
    "        break  #break跳出迴圈\n",
    "    \n",
    "    print(i)"
   ]
  },
  {
   "cell_type": "code",
   "execution_count": 160,
   "metadata": {},
   "outputs": [
    {
     "name": "stdout",
     "output_type": "stream",
     "text": [
      "1\n",
      "2\n",
      "3\n",
      "4\n",
      "6\n",
      "7\n",
      "8\n",
      "9\n",
      "10\n"
     ]
    }
   ],
   "source": [
    "i=0\n",
    "while(i<10):\n",
    "    i+=1\n",
    "    if(i==5):\n",
    "        continue  #continue 跳過該步驟\n",
    "\n",
    "    print(i)"
   ]
  },
  {
   "cell_type": "code",
   "execution_count": 161,
   "metadata": {},
   "outputs": [
    {
     "name": "stdout",
     "output_type": "stream",
     "text": [
      "1*1= 1\n",
      "2*1= 2,\t2*2= 4\n",
      "3*1= 3,\t3*2= 6,\t3*3= 9\n",
      "4*1= 4,\t4*2= 8,\t4*3=12,\t4*4=16\n",
      "5*1= 5,\t5*2=10,\t5*3=15,\t5*4=20,\t5*5=25\n",
      "6*1= 6,\t6*2=12,\t6*3=18,\t6*4=24,\t6*5=30,\t6*6=36\n",
      "7*1= 7,\t7*2=14,\t7*3=21,\t7*4=28,\t7*5=35,\t7*6=42,\t7*7=49\n",
      "8*1= 8,\t8*2=16,\t8*3=24,\t8*4=32,\t8*5=40,\t8*6=48,\t8*7=56,\t8*8=64\n",
      "9*1= 9,\t9*2=18,\t9*3=27,\t9*4=36,\t9*5=45,\t9*6=54,\t9*7=63,\t9*8=72,\t9*9=81\n"
     ]
    }
   ],
   "source": [
    "i = 1\n",
    "while i<=9:\n",
    "    j = 1\n",
    "    while j <= i:\n",
    "        print('%d*%d=%2d,\\t'%(i,j,i*j),end='')\n",
    "        j+=1\n",
    "    print('\\b\\b')\n",
    "    i +=1"
   ]
  },
  {
   "cell_type": "code",
   "execution_count": 162,
   "metadata": {},
   "outputs": [
    {
     "name": "stdout",
     "output_type": "stream",
     "text": [
      "2020/10 Taiwan計區銷售額為61.8\n",
      "2020/10 Taiwan計區銷售額為61.8\n"
     ]
    }
   ],
   "source": [
    "region = \"Taiwan\"\n",
    "sales = 61.8\n",
    "\n",
    "print(f'2020/10 {region}計區銷售額為{sales}')\n",
    "print('2020/10 {}計區銷售額為{}'.format(region, sales))"
   ]
  },
  {
   "cell_type": "markdown",
   "metadata": {},
   "source": [
    "map, def 練習"
   ]
  },
  {
   "cell_type": "code",
   "execution_count": 163,
   "metadata": {},
   "outputs": [
    {
     "name": "stdout",
     "output_type": "stream",
     "text": [
      "100\n",
      "[1, 4, 9, 16, 25, 36, 49, 64, 81]\n"
     ]
    }
   ],
   "source": [
    "def f(i):\n",
    "    return i**2\n",
    "\n",
    "i=10\n",
    "print(f(i))\n",
    "\n",
    "m = map(f, [1, 2, 3, 4, 5, 6, 7, 8, 9])\n",
    "print(list(m))"
   ]
  },
  {
   "cell_type": "markdown",
   "metadata": {},
   "source": [
    "reduce 函數，import functools"
   ]
  },
  {
   "cell_type": "code",
   "execution_count": 164,
   "metadata": {},
   "outputs": [
    {
     "name": "stdout",
     "output_type": "stream",
     "text": [
      "121\n"
     ]
    }
   ],
   "source": [
    "import functools as ft\n",
    "list_a = [1, 2, 3, 4, 5, 6]\n",
    "def fn(x, y):\n",
    "    return x+y\n",
    "\n",
    "total = ft.reduce(fn, list_a, 100)\n",
    "print(total)"
   ]
  },
  {
   "cell_type": "code",
   "execution_count": 165,
   "metadata": {},
   "outputs": [
    {
     "name": "stdout",
     "output_type": "stream",
     "text": [
      "DABC\n",
      "CBAD\n"
     ]
    }
   ],
   "source": [
    "import functools as ft\n",
    "list_a = [\"A\", \"B\", \"C\"]\n",
    "\n",
    "def fn(x, y):\n",
    "    return x+y\n",
    "total = ft.reduce(fn, list_a, \"D\")\n",
    "print(total)\n",
    "\n",
    "def fn(x, y):\n",
    "    return y+x\n",
    "total = ft.reduce(fn, list_a, \"D\")\n",
    "print(total)"
   ]
  },
  {
   "cell_type": "markdown",
   "metadata": {},
   "source": [
    "lambda 函數，匿名函數"
   ]
  },
  {
   "cell_type": "code",
   "execution_count": 166,
   "metadata": {},
   "outputs": [
    {
     "name": "stdout",
     "output_type": "stream",
     "text": [
      "DABC\n"
     ]
    }
   ],
   "source": [
    "import functools as ft\n",
    "list_a = [\"A\", \"B\", \"C\"]\n",
    "\n",
    "total = ft.reduce(lambda x,y:x+y, list_a, \"D\")\n",
    "print(total)"
   ]
  },
  {
   "cell_type": "markdown",
   "metadata": {},
   "source": [
    "fiter 函數"
   ]
  },
  {
   "cell_type": "code",
   "execution_count": 167,
   "metadata": {},
   "outputs": [
    {
     "name": "stdout",
     "output_type": "stream",
     "text": [
      "[1, 4, 9, 16, 25, 36, 49, 64, 81, 100]\n"
     ]
    }
   ],
   "source": [
    "import math\n",
    "\n",
    "def is_square(x):\n",
    "    return math.sqrt(x)%1 == 0\n",
    "\n",
    "print(list(filter(is_square, range(1, 101))))"
   ]
  },
  {
   "cell_type": "code",
   "execution_count": 168,
   "metadata": {},
   "outputs": [
    {
     "name": "stdout",
     "output_type": "stream",
     "text": [
      "[10, 20, 30, 40, 50, 60, 70, 80, 90, 100]\n"
     ]
    }
   ],
   "source": [
    "import math\n",
    "\n",
    "def is_10s(x):\n",
    "    return x%10 == 0\n",
    "\n",
    "print(list(filter(is_10s, range(1, 101))))"
   ]
  },
  {
   "cell_type": "markdown",
   "metadata": {},
   "source": [
    "strip() 去除字元，預設去除空字元(串)"
   ]
  },
  {
   "cell_type": "code",
   "execution_count": 169,
   "metadata": {},
   "outputs": [
    {
     "data": {
      "text/plain": [
       "['A', 'b', 'C']"
      ]
     },
     "execution_count": 169,
     "metadata": {},
     "output_type": "execute_result"
    }
   ],
   "source": [
    "def region(s):\n",
    "    return s.strip()\n",
    "\n",
    "list(filter(region, ['A', 'b', ' ', '', 'C']))"
   ]
  },
  {
   "cell_type": "markdown",
   "metadata": {},
   "source": [
    "sorted() 函數"
   ]
  },
  {
   "cell_type": "code",
   "execution_count": 170,
   "metadata": {},
   "outputs": [
    {
     "name": "stdout",
     "output_type": "stream",
     "text": [
      "[-40, -5, 1, 2, 5, 6, 9, 10, 32, 100]\n"
     ]
    },
    {
     "data": {
      "text/plain": [
       "[1, 2, 5, -5, 6, 9, 10, 32, -40, 100]"
      ]
     },
     "execution_count": 170,
     "metadata": {},
     "output_type": "execute_result"
    }
   ],
   "source": [
    "print(sorted([1, 5, 6, 10, 2, 32, 100, 9, -40, -5]))\n",
    "sorted([1, 5, 6, 10, 2, 32, 100, 9, -40, -5], key=abs)\n"
   ]
  },
  {
   "cell_type": "markdown",
   "metadata": {},
   "source": [
    "swap"
   ]
  },
  {
   "cell_type": "code",
   "execution_count": 171,
   "metadata": {},
   "outputs": [
    {
     "name": "stdout",
     "output_type": "stream",
     "text": [
      "20 10\n"
     ]
    }
   ],
   "source": [
    "a=10\n",
    "b=20\n",
    "a, b = b, a\n",
    "print(a, b)"
   ]
  },
  {
   "cell_type": "markdown",
   "metadata": {},
   "source": [
    "if, else, for 一行解"
   ]
  },
  {
   "cell_type": "code",
   "execution_count": 172,
   "metadata": {},
   "outputs": [
    {
     "data": {
      "text/plain": [
       "'\\nif else  -->  [if_true] if [expression] else [if_false]\\nfor  -->  veriable for veriable in expression\\nfor if  -->  veriable for veriable in expression if other expression\\n'"
      ]
     },
     "execution_count": 172,
     "metadata": {},
     "output_type": "execute_result"
    }
   ],
   "source": [
    "'''\n",
    "if else  -->  [if_true] if [expression] else [if_false]\n",
    "for  -->  veriable for veriable in expression\n",
    "for if  -->  veriable for veriable in expression if other expression\n",
    "'''"
   ]
  },
  {
   "cell_type": "markdown",
   "metadata": {},
   "source": [
    "## 練習題"
   ]
  },
  {
   "cell_type": "code",
   "execution_count": 173,
   "metadata": {},
   "outputs": [
    {
     "name": "stdout",
     "output_type": "stream",
     "text": [
      "space 6, alphas 27, digits 13, others 13\n"
     ]
    }
   ],
   "source": [
    "# 第一題\n",
    "\n",
    "str_1 = \"564df  dsfshfifhwiu*)(*)(*(Yuu5658415165Y&j    diuh*(*YGGH)\"\n",
    "space, alphas, digits, others, i = 0, 0, 0, 0, 0\n",
    "\n",
    "while(i<len(str_1)):\n",
    "    c = str_1[i]\n",
    "\n",
    "    if(c.isspace()):\n",
    "        space+=1\n",
    "\n",
    "    elif(c.isalpha()):\n",
    "        alphas+=1\n",
    "\n",
    "    elif(c.isdigit()):\n",
    "        digits+=1\n",
    "\n",
    "    else:\n",
    "        others+=1\n",
    "\n",
    "    i+=1\n",
    "\n",
    "print(\"space {}, alphas {}, digits {}, others {}\".format(space, alphas, digits, others))"
   ]
  },
  {
   "cell_type": "code",
   "execution_count": 174,
   "metadata": {},
   "outputs": [
    {
     "name": "stdout",
     "output_type": "stream",
     "text": [
      "[0, 1, 4, 9, 16, 25, 36, 49, 64, 81, 100]\n"
     ]
    }
   ],
   "source": [
    "# 第二題\n",
    "\n",
    "import math\n",
    "\n",
    "print(list(i for i in range(0, 101) if math.sqrt(i)%1==0))"
   ]
  },
  {
   "cell_type": "code",
   "execution_count": 175,
   "metadata": {},
   "outputs": [
    {
     "data": {
      "text/plain": [
       "'a b c d e'"
      ]
     },
     "execution_count": 175,
     "metadata": {},
     "output_type": "execute_result"
    }
   ],
   "source": [
    "# 第三題\n",
    "\n",
    "from string import digits\n",
    "s = 'a12 b34 c56 d78 e90'\n",
    "remove_digits = str.maketrans('','',digits)\n",
    "res = s.translate(remove_digits)\n",
    "res"
   ]
  },
  {
   "cell_type": "code",
   "execution_count": 176,
   "metadata": {},
   "outputs": [
    {
     "name": "stdout",
     "output_type": "stream",
     "text": [
      "{109: 101, 83: 74, 97: 111, 111: None, 100: None, 110: None, 103: None, 104: None, 116: None}\n"
     ]
    },
    {
     "data": {
      "text/plain": [
       "'G i Joe!'"
      ]
     },
     "execution_count": 176,
     "metadata": {},
     "output_type": "execute_result"
    }
   ],
   "source": [
    "# 第四題\n",
    "\n",
    "txt = \"Good night Sam!\"\n",
    "x = \"mSa\"\n",
    "y = \"eJo\"\n",
    "z = \"odnght\"\n",
    "print(str.maketrans(x, y, z))\n",
    "res = txt.translate(str.maketrans(x, y, z))\n",
    "res"
   ]
  },
  {
   "cell_type": "code",
   "execution_count": 177,
   "metadata": {},
   "outputs": [
    {
     "name": "stdout",
     "output_type": "stream",
     "text": [
      "['0', '1', '2', '3', '4', '5', '6', '7', '8', '9']\n"
     ]
    }
   ],
   "source": [
    "# digits test\n",
    "import string\n",
    "print(list(string.digits))"
   ]
  },
  {
   "cell_type": "markdown",
   "metadata": {},
   "source": [
    "[maketrans](https://www.runoob.com/python/att-string-maketrans.html), [translate](https://www.runoob.com/python/att-string-translate.html)"
   ]
  }
 ],
 "metadata": {
  "kernelspec": {
   "display_name": "Python 3",
   "language": "python",
   "name": "python3"
  },
  "language_info": {
   "codemirror_mode": {
    "name": "ipython",
    "version": 3
   },
   "file_extension": ".py",
   "mimetype": "text/x-python",
   "name": "python",
   "nbconvert_exporter": "python",
   "pygments_lexer": "ipython3",
   "version": "3.10.10"
  }
 },
 "nbformat": 4,
 "nbformat_minor": 2
}
