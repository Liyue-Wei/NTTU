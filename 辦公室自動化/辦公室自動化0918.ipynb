{
 "cells": [
  {
   "cell_type": "markdown",
   "metadata": {},
   "source": [
    "## 辦公室自動化(09/18)"
   ]
  },
  {
   "cell_type": "code",
   "execution_count": 2596,
   "metadata": {},
   "outputs": [
    {
     "name": "stdout",
     "output_type": "stream",
     "text": [
      "1 * 1 =  1\t\n",
      "1 * 2 =  2\t2 * 2 =  4\t\n",
      "1 * 3 =  3\t2 * 3 =  6\t3 * 3 =  9\t\n",
      "1 * 4 =  4\t2 * 4 =  8\t3 * 4 = 12\t4 * 4 = 16\t\n",
      "1 * 5 =  5\t2 * 5 = 10\t3 * 5 = 15\t4 * 5 = 20\t5 * 5 = 25\t\n",
      "1 * 6 =  6\t2 * 6 = 12\t3 * 6 = 18\t4 * 6 = 24\t5 * 6 = 30\t6 * 6 = 36\t\n",
      "1 * 7 =  7\t2 * 7 = 14\t3 * 7 = 21\t4 * 7 = 28\t5 * 7 = 35\t6 * 7 = 42\t7 * 7 = 49\t\n",
      "1 * 8 =  8\t2 * 8 = 16\t3 * 8 = 24\t4 * 8 = 32\t5 * 8 = 40\t6 * 8 = 48\t7 * 8 = 56\t8 * 8 = 64\t\n",
      "1 * 9 =  9\t2 * 9 = 18\t3 * 9 = 27\t4 * 9 = 36\t5 * 9 = 45\t6 * 9 = 54\t7 * 9 = 63\t8 * 9 = 72\t9 * 9 = 81\t\n"
     ]
    }
   ],
   "source": [
    "# ChatGPT\n",
    "def print_multiplication_table():\n",
    "    for i in range(1, 10):\n",
    "        for j in range(1, i + 1):\n",
    "            print(f\"{j} * {i} = {i * j:2}\", end=\"\\t\")\n",
    "        print()  # 換行\n",
    "\n",
    "print_multiplication_table()\n"
   ]
  },
  {
   "cell_type": "code",
   "execution_count": 2597,
   "metadata": {},
   "outputs": [
    {
     "name": "stdout",
     "output_type": "stream",
     "text": [
      "1 x 1 = 1\n",
      "1 x 2 = 2\n",
      "1 x 3 = 3\n",
      "1 x 4 = 4\n",
      "1 x 5 = 5\n",
      "1 x 6 = 6\n",
      "1 x 7 = 7\n",
      "1 x 8 = 8\n",
      "1 x 9 = 9\n",
      "2 x 1 = 2\n",
      "2 x 2 = 4\n",
      "2 x 3 = 6\n",
      "2 x 4 = 8\n",
      "2 x 5 = 10\n",
      "2 x 6 = 12\n",
      "2 x 7 = 14\n",
      "2 x 8 = 16\n",
      "2 x 9 = 18\n",
      "3 x 1 = 3\n",
      "3 x 2 = 6\n",
      "3 x 3 = 9\n",
      "3 x 4 = 12\n",
      "3 x 5 = 15\n",
      "3 x 6 = 18\n",
      "3 x 7 = 21\n",
      "3 x 8 = 24\n",
      "3 x 9 = 27\n",
      "4 x 1 = 4\n",
      "4 x 2 = 8\n",
      "4 x 3 = 12\n",
      "4 x 4 = 16\n",
      "4 x 5 = 20\n",
      "4 x 6 = 24\n",
      "4 x 7 = 28\n",
      "4 x 8 = 32\n",
      "4 x 9 = 36\n",
      "5 x 1 = 5\n",
      "5 x 2 = 10\n",
      "5 x 3 = 15\n",
      "5 x 4 = 20\n",
      "5 x 5 = 25\n",
      "5 x 6 = 30\n",
      "5 x 7 = 35\n",
      "5 x 8 = 40\n",
      "5 x 9 = 45\n",
      "6 x 1 = 6\n",
      "6 x 2 = 12\n",
      "6 x 3 = 18\n",
      "6 x 4 = 24\n",
      "6 x 5 = 30\n",
      "6 x 6 = 36\n",
      "6 x 7 = 42\n",
      "6 x 8 = 48\n",
      "6 x 9 = 54\n",
      "7 x 1 = 7\n",
      "7 x 2 = 14\n",
      "7 x 3 = 21\n",
      "7 x 4 = 28\n",
      "7 x 5 = 35\n",
      "7 x 6 = 42\n",
      "7 x 7 = 49\n",
      "7 x 8 = 56\n",
      "7 x 9 = 63\n",
      "8 x 1 = 8\n",
      "8 x 2 = 16\n",
      "8 x 3 = 24\n",
      "8 x 4 = 32\n",
      "8 x 5 = 40\n",
      "8 x 6 = 48\n",
      "8 x 7 = 56\n",
      "8 x 8 = 64\n",
      "8 x 9 = 72\n",
      "9 x 1 = 9\n",
      "9 x 2 = 18\n",
      "9 x 3 = 27\n",
      "9 x 4 = 36\n",
      "9 x 5 = 45\n",
      "9 x 6 = 54\n",
      "9 x 7 = 63\n",
      "9 x 8 = 72\n",
      "9 x 9 = 81\n"
     ]
    }
   ],
   "source": [
    "# Gemini\n",
    "for i in range(1, 10):\n",
    "  for j in range(1, 10):\n",
    "    print(f'{i} x {j} = {i*j}')"
   ]
  },
  {
   "cell_type": "code",
   "execution_count": 2598,
   "metadata": {},
   "outputs": [
    {
     "data": {
      "text/plain": [
       "'\\n#include <iostream>\\n#include <iomanip> // 用於設置輸出格式\\n\\nint main() {\\n    for (int i = 1; i <= 9; ++i) {\\n        for (int j = 1; j <= i; ++j) {\\n            std::cout << j << \" * \" << i << \" = \" << std::setw(2) << (i * j) << \"\\t\";\\n        }\\n        std::cout << std::endl; // 換行\\n    }\\n    return 0;\\n}\\n'"
      ]
     },
     "execution_count": 2598,
     "metadata": {},
     "output_type": "execute_result"
    }
   ],
   "source": [
    "# ChatGPT\n",
    "'''\n",
    "#include <iostream>\n",
    "#include <iomanip> // 用於設置輸出格式\n",
    "\n",
    "int main() {\n",
    "    for (int i = 1; i <= 9; ++i) {\n",
    "        for (int j = 1; j <= i; ++j) {\n",
    "            std::cout << j << \" * \" << i << \" = \" << std::setw(2) << (i * j) << \"\\t\";\n",
    "        }\n",
    "        std::cout << std::endl; // 換行\n",
    "    }\n",
    "    return 0;\n",
    "}\n",
    "'''"
   ]
  },
  {
   "cell_type": "markdown",
   "metadata": {},
   "source": [
    "### 電腦的組成\n",
    "CPU\n",
    "RAM\n",
    "Motherboard\n",
    "GPU\n",
    "SSD(HDD)\n",
    "PSU\n",
    "IO"
   ]
  },
  {
   "cell_type": "code",
   "execution_count": 2599,
   "metadata": {},
   "outputs": [
    {
     "data": {
      "text/plain": [
       "899"
      ]
     },
     "execution_count": 2599,
     "metadata": {},
     "output_type": "execute_result"
    }
   ],
   "source": [
    "order_volume = 899\n",
    "order_volume"
   ]
  },
  {
   "cell_type": "code",
   "execution_count": 2600,
   "metadata": {},
   "outputs": [
    {
     "data": {
      "text/plain": [
       "891"
      ]
     },
     "execution_count": 2600,
     "metadata": {},
     "output_type": "execute_result"
    }
   ],
   "source": [
    "order_volume = 891\n",
    "order_volume"
   ]
  },
  {
   "cell_type": "code",
   "execution_count": 2601,
   "metadata": {},
   "outputs": [
    {
     "name": "stdout",
     "output_type": "stream",
     "text": [
      "891\n",
      "998\n"
     ]
    }
   ],
   "source": [
    "# 變數名稱區分大小寫\n",
    "Order_volume = 998\n",
    "print(order_volume)\n",
    "print(Order_volume)"
   ]
  },
  {
   "cell_type": "code",
   "execution_count": 2602,
   "metadata": {},
   "outputs": [
    {
     "data": {
      "text/plain": [
       "(-0.43900000000000006, -12.0)"
      ]
     },
     "execution_count": 2602,
     "metadata": {},
     "output_type": "execute_result"
    }
   ],
   "source": [
    "import math\n",
    "math.modf(-12.439)  # 將小數點與整數區分開"
   ]
  },
  {
   "cell_type": "code",
   "execution_count": 2603,
   "metadata": {},
   "outputs": [
    {
     "name": "stdout",
     "output_type": "stream",
     "text": [
      "0.5403023058681398\n",
      "9.9498743710662\n"
     ]
    }
   ],
   "source": [
    "print(math.cos(1))\n",
    "print(math.sqrt(99))"
   ]
  },
  {
   "cell_type": "code",
   "execution_count": 2604,
   "metadata": {},
   "outputs": [],
   "source": [
    "str_1 = \"hello world \"\n",
    "str_2 = '你好 python '"
   ]
  },
  {
   "cell_type": "code",
   "execution_count": 2605,
   "metadata": {},
   "outputs": [],
   "source": [
    "str_3 = str_1 + \"from VScode\""
   ]
  },
  {
   "cell_type": "code",
   "execution_count": 2606,
   "metadata": {},
   "outputs": [
    {
     "data": {
      "text/plain": [
       "'hello world hello world '"
      ]
     },
     "execution_count": 2606,
     "metadata": {},
     "output_type": "execute_result"
    }
   ],
   "source": [
    "str_1*2"
   ]
  },
  {
   "cell_type": "code",
   "execution_count": 2607,
   "metadata": {},
   "outputs": [
    {
     "name": "stdout",
     "output_type": "stream",
     "text": [
      "hello world \n",
      "hello world hello world \n"
     ]
    }
   ],
   "source": [
    "print(str_1)\n",
    "str_1*=2\n",
    "print(str_1)"
   ]
  },
  {
   "cell_type": "code",
   "execution_count": 2608,
   "metadata": {},
   "outputs": [
    {
     "data": {
      "text/plain": [
       "'hel'"
      ]
     },
     "execution_count": 2608,
     "metadata": {},
     "output_type": "execute_result"
    }
   ],
   "source": [
    "str_1[:3]\n",
    "# h e l l o  w o r l d    h  e  l  l  o  w  o  r  l  d  \n",
    "# 0 1 2 3 4  5 6 7 8 9 10 11 12 13 14 15 16 17 18 19 20 21"
   ]
  },
  {
   "cell_type": "code",
   "execution_count": 2609,
   "metadata": {},
   "outputs": [
    {
     "data": {
      "text/plain": [
       "\"\\nstr_2[3] = 'Q'\\n\""
      ]
     },
     "execution_count": 2609,
     "metadata": {},
     "output_type": "execute_result"
    }
   ],
   "source": [
    "# string禁止修改內容\n",
    "'''\n",
    "str_2[3] = 'Q'\n",
    "'''"
   ]
  },
  {
   "cell_type": "code",
   "execution_count": 2610,
   "metadata": {},
   "outputs": [
    {
     "name": "stdout",
     "output_type": "stream",
     "text": [
      "hello world hello world \n",
      "ello world hello world \n",
      "o world he\n",
      "hlowrdhlowr\n",
      "lo le lo le\n"
     ]
    }
   ],
   "source": [
    "print(str_1[:])\n",
    "print(str_1[1:])\n",
    "print(str_1[-20:-10])\n",
    "print(str_1[0:21:2])\n",
    "print(str_1[21:0:-2])"
   ]
  },
  {
   "cell_type": "code",
   "execution_count": 2611,
   "metadata": {},
   "outputs": [
    {
     "data": {
      "text/plain": [
       "True"
      ]
     },
     "execution_count": 2611,
     "metadata": {},
     "output_type": "execute_result"
    }
   ],
   "source": [
    "\"python\" in str_2"
   ]
  },
  {
   "cell_type": "markdown",
   "metadata": {},
   "source": [
    "### list 練習"
   ]
  },
  {
   "cell_type": "code",
   "execution_count": 2612,
   "metadata": {},
   "outputs": [],
   "source": [
    "list_1 = [\"order_region\", 2019, 2020]\n",
    "list_2 = [289, 258, 191, 153]\n",
    "list_3 = [\"order_south\", \"order_north\", \"order_east\", \"order_west\"]"
   ]
  },
  {
   "cell_type": "code",
   "execution_count": 2613,
   "metadata": {},
   "outputs": [
    {
     "data": {
      "text/plain": [
       "['order_region', 2019, 2020]"
      ]
     },
     "execution_count": 2613,
     "metadata": {},
     "output_type": "execute_result"
    }
   ],
   "source": [
    "list_1"
   ]
  },
  {
   "cell_type": "code",
   "execution_count": 2614,
   "metadata": {},
   "outputs": [
    {
     "data": {
      "text/plain": [
       "list"
      ]
     },
     "execution_count": 2614,
     "metadata": {},
     "output_type": "execute_result"
    }
   ],
   "source": [
    "type(list_1)"
   ]
  },
  {
   "cell_type": "code",
   "execution_count": 2615,
   "metadata": {},
   "outputs": [
    {
     "data": {
      "text/plain": [
       "['order_north', 'order_east']"
      ]
     },
     "execution_count": 2615,
     "metadata": {},
     "output_type": "execute_result"
    }
   ],
   "source": [
    "list_3[1:3]"
   ]
  },
  {
   "cell_type": "code",
   "execution_count": 2616,
   "metadata": {},
   "outputs": [
    {
     "data": {
      "text/plain": [
       "['order_region', '2019年', 2020]"
      ]
     },
     "execution_count": 2616,
     "metadata": {},
     "output_type": "execute_result"
    }
   ],
   "source": [
    "list_1[1] = \"2019年\"\n",
    "list_1"
   ]
  },
  {
   "cell_type": "code",
   "execution_count": 2617,
   "metadata": {},
   "outputs": [
    {
     "data": {
      "text/plain": [
       "['order_region', 2020]"
      ]
     },
     "execution_count": 2617,
     "metadata": {},
     "output_type": "execute_result"
    }
   ],
   "source": [
    "del list_1[1]\n",
    "list_1"
   ]
  },
  {
   "cell_type": "code",
   "execution_count": 2618,
   "metadata": {},
   "outputs": [
    {
     "data": {
      "text/plain": [
       "['order_region', 2020, '2021']"
      ]
     },
     "execution_count": 2618,
     "metadata": {},
     "output_type": "execute_result"
    }
   ],
   "source": [
    "list_1.append(\"2021\")\n",
    "list_1"
   ]
  },
  {
   "cell_type": "code",
   "execution_count": 2619,
   "metadata": {},
   "outputs": [
    {
     "name": "stdout",
     "output_type": "stream",
     "text": [
      "2020\n",
      "<class 'int'>\n",
      "2021\n",
      "<class 'str'>\n"
     ]
    }
   ],
   "source": [
    "print(list_1[1])\n",
    "print(type(list_1[1]))\n",
    "print(list_1[-1])\n",
    "print(type(list_1[-1]))"
   ]
  },
  {
   "cell_type": "markdown",
   "metadata": {},
   "source": [
    "### tuple 練習"
   ]
  },
  {
   "cell_type": "code",
   "execution_count": 2620,
   "metadata": {},
   "outputs": [],
   "source": [
    "tup_1 = (\"order_region\", 2019, 2020)\n",
    "tup_2 = (289, 258, 191, 153)\n",
    "tup_3 = (\"order_south\", \"order_north\", \"order_east\", \"order_west\")"
   ]
  },
  {
   "cell_type": "code",
   "execution_count": 2621,
   "metadata": {},
   "outputs": [
    {
     "data": {
      "text/plain": [
       "('order_region', 2019, 2020)"
      ]
     },
     "execution_count": 2621,
     "metadata": {},
     "output_type": "execute_result"
    }
   ],
   "source": [
    "tup_1"
   ]
  },
  {
   "cell_type": "code",
   "execution_count": 2622,
   "metadata": {},
   "outputs": [
    {
     "name": "stdout",
     "output_type": "stream",
     "text": [
      "128\n",
      "<class 'int'>\n",
      "(128,)\n",
      "<class 'tuple'>\n"
     ]
    }
   ],
   "source": [
    "# 只有一個內容，tuple依然需要加,\n",
    "tup_4 = (128)\n",
    "print(tup_4)\n",
    "print(type(tup_4))\n",
    "tup_4 = (128, )\n",
    "print(tup_4)\n",
    "print(type(tup_4))"
   ]
  },
  {
   "cell_type": "code",
   "execution_count": 2623,
   "metadata": {},
   "outputs": [
    {
     "data": {
      "text/plain": [
       "('order_north', 'order_east')"
      ]
     },
     "execution_count": 2623,
     "metadata": {},
     "output_type": "execute_result"
    }
   ],
   "source": [
    "tup_3[1:3]"
   ]
  },
  {
   "cell_type": "code",
   "execution_count": 2624,
   "metadata": {},
   "outputs": [
    {
     "data": {
      "text/plain": [
       "('order_region',\n",
       " 2019,\n",
       " 2020,\n",
       " 289,\n",
       " 258,\n",
       " 191,\n",
       " 153,\n",
       " 'order_south',\n",
       " 'order_north',\n",
       " 'order_east',\n",
       " 'order_west')"
      ]
     },
     "execution_count": 2624,
     "metadata": {},
     "output_type": "execute_result"
    }
   ],
   "source": [
    "tup_5 = tup_1 + tup_2 + tup_3\n",
    "tup_5"
   ]
  },
  {
   "cell_type": "code",
   "execution_count": 2625,
   "metadata": {},
   "outputs": [],
   "source": [
    "# del tup_5[0]，tuple不可以del或append"
   ]
  },
  {
   "cell_type": "markdown",
   "metadata": {},
   "source": [
    "### set 集合，{}"
   ]
  },
  {
   "cell_type": "code",
   "execution_count": 2626,
   "metadata": {},
   "outputs": [
    {
     "data": {
      "text/plain": [
       "{'C++', 'Python', 'VScode', 'hello'}"
      ]
     },
     "execution_count": 2626,
     "metadata": {},
     "output_type": "execute_result"
    }
   ],
   "source": [
    "order_oct = {\"hello\", \"C++\", \"Python\", \"VScode\"}\n",
    "order_nov = {\"hello\", \"world\", \"C#\", \"Java\", \"Vim\"}\n",
    "order_oct"
   ]
  },
  {
   "cell_type": "code",
   "execution_count": 2627,
   "metadata": {},
   "outputs": [
    {
     "name": "stdout",
     "output_type": "stream",
     "text": [
      "{'hello'}\n",
      "{'world', 'C#', 'Python', 'hello', 'VScode', 'Vim', 'C++', 'Java'}\n",
      "{'world', 'VScode', 'Vim', 'Python', 'C#', 'C++', 'Java'}\n"
     ]
    }
   ],
   "source": [
    "print(order_oct & order_nov)\n",
    "print(order_oct | order_nov)\n",
    "print(order_oct ^ order_nov)"
   ]
  },
  {
   "cell_type": "code",
   "execution_count": 2628,
   "metadata": {},
   "outputs": [
    {
     "name": "stdout",
     "output_type": "stream",
     "text": [
      "32025\n",
      "22120\n",
      "26885\n"
     ]
    }
   ],
   "source": [
    "print(ord(\"紙\"))\n",
    "print(ord(\"器\"))\n",
    "print(ord(\"椅\"))"
   ]
  },
  {
   "cell_type": "markdown",
   "metadata": {},
   "source": [
    "### 字典 dictionary"
   ]
  },
  {
   "cell_type": "code",
   "execution_count": 2629,
   "metadata": {},
   "outputs": [
    {
     "data": {
      "text/plain": [
       "{'order_volume': 291}"
      ]
     },
     "execution_count": 2629,
     "metadata": {},
     "output_type": "execute_result"
    }
   ],
   "source": [
    "dict1 = {'order_volume': 291}\n",
    "dict2 = {'order_volume': 291, 2020:3}\n",
    "dict3 = {'order_south':289,'order_north':258,'order_east':191,'order_west':153}\n",
    "dict1"
   ]
  },
  {
   "cell_type": "code",
   "execution_count": 2630,
   "metadata": {},
   "outputs": [
    {
     "data": {
      "text/plain": [
       "dict"
      ]
     },
     "execution_count": 2630,
     "metadata": {},
     "output_type": "execute_result"
    }
   ],
   "source": [
    "type(dict1)"
   ]
  },
  {
   "cell_type": "code",
   "execution_count": 2631,
   "metadata": {},
   "outputs": [
    {
     "data": {
      "text/plain": [
       "258"
      ]
     },
     "execution_count": 2631,
     "metadata": {},
     "output_type": "execute_result"
    }
   ],
   "source": [
    "dict3['order_north']"
   ]
  },
  {
   "cell_type": "code",
   "execution_count": 2632,
   "metadata": {},
   "outputs": [
    {
     "data": {
      "text/plain": [
       "{'banana': '香蕉', 'orange': '橘子', 'strawberry': '草莓', 'apple': '蘋果'}"
      ]
     },
     "execution_count": 2632,
     "metadata": {},
     "output_type": "execute_result"
    }
   ],
   "source": [
    "fruits = {\"banana\":\"香蕉\", \"orange\":\"橘子\", \"strawberry\":\"草莓\", \"apple\":\"蘋果\"}\n",
    "fruits"
   ]
  },
  {
   "cell_type": "code",
   "execution_count": 2633,
   "metadata": {},
   "outputs": [
    {
     "data": {
      "text/plain": [
       "'香蕉'"
      ]
     },
     "execution_count": 2633,
     "metadata": {},
     "output_type": "execute_result"
    }
   ],
   "source": [
    "fruits['banana']"
   ]
  },
  {
   "cell_type": "code",
   "execution_count": 2634,
   "metadata": {},
   "outputs": [
    {
     "data": {
      "text/plain": [
       "{'banana': '香蕉',\n",
       " 'orange': '橘子',\n",
       " 'strawberry': '草莓',\n",
       " 'apple': '蘋果',\n",
       " 'pineapple': '鳳梨',\n",
       " 'lemon': '檸檬'}"
      ]
     },
     "execution_count": 2634,
     "metadata": {},
     "output_type": "execute_result"
    }
   ],
   "source": [
    "fruits['pineapple'] = \"鳳梨\"\n",
    "fruits['lemon'] = \"檸檬\"\n",
    "fruits"
   ]
  },
  {
   "cell_type": "code",
   "execution_count": 2635,
   "metadata": {},
   "outputs": [
    {
     "data": {
      "text/plain": [
       "{'banana': '香蕉',\n",
       " 'orange': '橘子',\n",
       " 'apple': '蘋果',\n",
       " 'pineapple': '鳳梨',\n",
       " 'lemon': '檸檬'}"
      ]
     },
     "execution_count": 2635,
     "metadata": {},
     "output_type": "execute_result"
    }
   ],
   "source": [
    "del fruits['strawberry']\n",
    "fruits"
   ]
  },
  {
   "cell_type": "code",
   "execution_count": 2636,
   "metadata": {},
   "outputs": [
    {
     "data": {
      "text/plain": [
       "{}"
      ]
     },
     "execution_count": 2636,
     "metadata": {},
     "output_type": "execute_result"
    }
   ],
   "source": [
    "fruits.clear()\n",
    "fruits"
   ]
  },
  {
   "cell_type": "markdown",
   "metadata": {},
   "source": [
    "## 流程控制\n",
    "\n",
    "for loop and while loop"
   ]
  },
  {
   "cell_type": "code",
   "execution_count": 2637,
   "metadata": {},
   "outputs": [
    {
     "name": "stdout",
     "output_type": "stream",
     "text": [
      "[1, 2, 3, 4, 5, 6, 7, 8, 9]\n",
      "[0, 1, 2, 3, 4, 5, 6, 7, 8, 9]\n"
     ]
    }
   ],
   "source": [
    "print(list(range(1, 10)))\n",
    "print(list(range(10)))"
   ]
  },
  {
   "cell_type": "code",
   "execution_count": 2638,
   "metadata": {},
   "outputs": [
    {
     "name": "stdout",
     "output_type": "stream",
     "text": [
      "45\n"
     ]
    }
   ],
   "source": [
    "sum = 0\n",
    "for i in range(0, 10):\n",
    "    sum+=i\n",
    "print(sum)"
   ]
  },
  {
   "cell_type": "markdown",
   "metadata": {},
   "source": [
    "## 0918作業"
   ]
  },
  {
   "cell_type": "code",
   "execution_count": 2639,
   "metadata": {},
   "outputs": [
    {
     "name": "stdout",
     "output_type": "stream",
     "text": [
      "dict_keys(['香蕉', '橘子', '草莓', '蘋果', '鳳梨', '檸檬'])\n",
      "dict_values(['banana', 'orange', 'strawberry', 'apple', 'pineapple', 'lemon'])\n"
     ]
    }
   ],
   "source": [
    "fruits = {'香蕉':'banana', '橘子':'orange', '草莓':'strawberry', '蘋果':'apple', '鳳梨':'pineapple', '檸檬':'lemon'}\n",
    "\n",
    "print(fruits.keys())\n",
    "print(fruits.values())"
   ]
  },
  {
   "cell_type": "code",
   "execution_count": 2640,
   "metadata": {},
   "outputs": [
    {
     "name": "stdout",
     "output_type": "stream",
     "text": [
      "banana\n",
      "orange\n",
      "strawberry\n",
      "apple\n",
      "pineapple\n",
      "lemon\n"
     ]
    }
   ],
   "source": [
    "for i in fruits.keys():\n",
    "    print(fruits[i])"
   ]
  }
 ],
 "metadata": {
  "kernelspec": {
   "display_name": "Python 3",
   "language": "python",
   "name": "python3"
  },
  "language_info": {
   "codemirror_mode": {
    "name": "ipython",
    "version": 3
   },
   "file_extension": ".py",
   "mimetype": "text/x-python",
   "name": "python",
   "nbconvert_exporter": "python",
   "pygments_lexer": "ipython3",
   "version": "3.10.10"
  }
 },
 "nbformat": 4,
 "nbformat_minor": 2
}
