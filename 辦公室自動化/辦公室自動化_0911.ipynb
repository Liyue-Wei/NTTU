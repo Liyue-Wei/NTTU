{
  "nbformat": 4,
  "nbformat_minor": 0,
  "metadata": {
    "colab": {
      "provenance": []
    },
    "kernelspec": {
      "name": "python3",
      "display_name": "Python 3"
    },
    "language_info": {
      "name": "python"
    }
  },
  "cells": [
    {
      "cell_type": "markdown",
      "source": [
        "## 辦公室自動化(09/11)"
      ],
      "metadata": {
        "id": "KT0HyeuG0A-7"
      }
    },
    {
      "cell_type": "code",
      "source": [
        "a = 3\n",
        "a\n",
        "b = 4\n",
        "b\n",
        "print(\"a =\", a)\n",
        "print(\"b =\", b)"
      ],
      "metadata": {
        "colab": {
          "base_uri": "https://localhost:8080/"
        },
        "id": "IOvsItE70HuR",
        "outputId": "1e762650-0c7e-477b-d60f-95a96450c2c4"
      },
      "execution_count": 7,
      "outputs": [
        {
          "output_type": "stream",
          "name": "stdout",
          "text": [
            "a = 3\n",
            "b = 4\n"
          ]
        }
      ]
    },
    {
      "cell_type": "code",
      "source": [
        "2-1"
      ],
      "metadata": {
        "colab": {
          "base_uri": "https://localhost:8080/"
        },
        "id": "Rk0E8RgQ0gP0",
        "outputId": "adce77c2-749f-431e-9d71-f0001f202900"
      },
      "execution_count": 8,
      "outputs": [
        {
          "output_type": "execute_result",
          "data": {
            "text/plain": [
              "1"
            ]
          },
          "metadata": {},
          "execution_count": 8
        }
      ]
    },
    {
      "cell_type": "code",
      "source": [
        "1+1"
      ],
      "metadata": {
        "colab": {
          "base_uri": "https://localhost:8080/"
        },
        "id": "cT_B3NbQDlxM",
        "outputId": "84b9efbf-105f-433d-b2f2-fc785754a1ff"
      },
      "execution_count": 9,
      "outputs": [
        {
          "output_type": "execute_result",
          "data": {
            "text/plain": [
              "2"
            ]
          },
          "metadata": {},
          "execution_count": 9
        }
      ]
    },
    {
      "cell_type": "markdown",
      "source": [
        "// 取商數"
      ],
      "metadata": {
        "id": "aVrjdWBkDnzp"
      }
    },
    {
      "cell_type": "code",
      "source": [
        "7//3"
      ],
      "metadata": {
        "colab": {
          "base_uri": "https://localhost:8080/"
        },
        "id": "r0O_oeJBDsZY",
        "outputId": "36c81d53-5a88-47d3-93f0-53f1912ec418"
      },
      "execution_count": 10,
      "outputs": [
        {
          "output_type": "execute_result",
          "data": {
            "text/plain": [
              "2"
            ]
          },
          "metadata": {},
          "execution_count": 10
        }
      ]
    },
    {
      "cell_type": "code",
      "source": [
        "-1%3"
      ],
      "metadata": {
        "colab": {
          "base_uri": "https://localhost:8080/"
        },
        "id": "EHECGm5sD2Pq",
        "outputId": "f6503e8e-438f-4f9b-d8a4-19fcc327fe82"
      },
      "execution_count": 12,
      "outputs": [
        {
          "output_type": "execute_result",
          "data": {
            "text/plain": [
              "2"
            ]
          },
          "metadata": {},
          "execution_count": 12
        }
      ]
    },
    {
      "cell_type": "markdown",
      "source": [
        "因為-1距離3有兩個單位(-2 -1 0 1 2 3)"
      ],
      "metadata": {
        "id": "_dvsgUl6EBsB"
      }
    },
    {
      "cell_type": "code",
      "source": [
        "2**3"
      ],
      "metadata": {
        "colab": {
          "base_uri": "https://localhost:8080/"
        },
        "id": "j2-LadO8EL-h",
        "outputId": "80dd8688-78de-43ad-b75a-dbe94ceed141"
      },
      "execution_count": 13,
      "outputs": [
        {
          "output_type": "execute_result",
          "data": {
            "text/plain": [
              "8"
            ]
          },
          "metadata": {},
          "execution_count": 13
        }
      ]
    },
    {
      "cell_type": "markdown",
      "source": [
        "先乘除後加減，()可以改變運算順序"
      ],
      "metadata": {
        "id": "DFvq-bRVERIQ"
      }
    },
    {
      "cell_type": "code",
      "source": [
        "4+5*2"
      ],
      "metadata": {
        "colab": {
          "base_uri": "https://localhost:8080/"
        },
        "id": "w9_Fmc4aETi5",
        "outputId": "7fbc2624-9f67-4607-9607-d6cd4a7ff1d2"
      },
      "execution_count": 14,
      "outputs": [
        {
          "output_type": "execute_result",
          "data": {
            "text/plain": [
              "14"
            ]
          },
          "metadata": {},
          "execution_count": 14
        }
      ]
    },
    {
      "cell_type": "code",
      "source": [
        "(4+5)*2"
      ],
      "metadata": {
        "colab": {
          "base_uri": "https://localhost:8080/"
        },
        "id": "OV6z31uJEX7r",
        "outputId": "ce6c2dfe-791b-4ed3-81a5-a37d14d1f742"
      },
      "execution_count": 15,
      "outputs": [
        {
          "output_type": "execute_result",
          "data": {
            "text/plain": [
              "18"
            ]
          },
          "metadata": {},
          "execution_count": 15
        }
      ]
    },
    {
      "cell_type": "code",
      "source": [
        "type(2)"
      ],
      "metadata": {
        "colab": {
          "base_uri": "https://localhost:8080/"
        },
        "id": "06qlEN9iEesa",
        "outputId": "a65527a9-af91-4eea-99d6-0a5833ec420d"
      },
      "execution_count": 16,
      "outputs": [
        {
          "output_type": "execute_result",
          "data": {
            "text/plain": [
              "int"
            ]
          },
          "metadata": {},
          "execution_count": 16
        }
      ]
    },
    {
      "cell_type": "code",
      "source": [
        "type(2.5)"
      ],
      "metadata": {
        "colab": {
          "base_uri": "https://localhost:8080/"
        },
        "id": "tzvEAcZVEhTg",
        "outputId": "3ad2c7af-2899-4986-fa85-71c63eb9b0da"
      },
      "execution_count": 17,
      "outputs": [
        {
          "output_type": "execute_result",
          "data": {
            "text/plain": [
              "float"
            ]
          },
          "metadata": {},
          "execution_count": 17
        }
      ]
    },
    {
      "cell_type": "markdown",
      "source": [
        "資料型態轉換"
      ],
      "metadata": {
        "id": "Y7FxwFzzE9A0"
      }
    },
    {
      "cell_type": "code",
      "source": [
        "# print(int(\"2.38\")) 浮點數字串不能轉換為整數\n",
        "print(int(\"2\"))"
      ],
      "metadata": {
        "colab": {
          "base_uri": "https://localhost:8080/"
        },
        "id": "jZ5SqYsNFBja",
        "outputId": "07cd205f-5117-4c39-b5a3-8304833daf7b"
      },
      "execution_count": 20,
      "outputs": [
        {
          "output_type": "stream",
          "name": "stdout",
          "text": [
            "2\n"
          ]
        }
      ]
    },
    {
      "cell_type": "code",
      "source": [
        "(x, y) = (12, 35)\n",
        "print(x, y)"
      ],
      "metadata": {
        "colab": {
          "base_uri": "https://localhost:8080/"
        },
        "id": "bzg71cY_FleN",
        "outputId": "b3fdc6dd-ad88-465a-f39f-2f4e2d047ce1"
      },
      "execution_count": 22,
      "outputs": [
        {
          "output_type": "stream",
          "name": "stdout",
          "text": [
            "12 35\n"
          ]
        }
      ]
    },
    {
      "cell_type": "code",
      "source": [
        "(a, b) = (45, 35)\n",
        "a+=a\n",
        "print(a)\n",
        "b = b+b\n",
        "print(b)"
      ],
      "metadata": {
        "colab": {
          "base_uri": "https://localhost:8080/"
        },
        "id": "dFSW5gmuGA5H",
        "outputId": "2db529e8-95ea-475f-d635-1f64d8c5eeaf"
      },
      "execution_count": 27,
      "outputs": [
        {
          "output_type": "stream",
          "name": "stdout",
          "text": [
            "90\n",
            "70\n"
          ]
        }
      ]
    },
    {
      "cell_type": "code",
      "source": [
        "(i, n, t) = (1, 2, 3)\n",
        "(i_2, n_2, t_2) = (1, 2, 3)\n",
        "i+=i\n",
        "i_2-=i_2\n",
        "\n",
        "n*=n\n",
        "n_2**=n_2\n",
        "\n",
        "t/=t\n",
        "t_2%=t_2\n",
        "\n",
        "print(i, n, t, i_2, n_2, t_2)"
      ],
      "metadata": {
        "colab": {
          "base_uri": "https://localhost:8080/"
        },
        "id": "ZBbSUkWGGxaU",
        "outputId": "753f8a29-6172-4aa5-94c5-6e9f0509a252"
      },
      "execution_count": 28,
      "outputs": [
        {
          "output_type": "stream",
          "name": "stdout",
          "text": [
            "2 4 1.0 0 4 0\n"
          ]
        }
      ]
    },
    {
      "cell_type": "markdown",
      "source": [
        "string練習"
      ],
      "metadata": {
        "id": "O7WjtWmxHnYB"
      }
    },
    {
      "cell_type": "code",
      "source": [
        "a = \"hello\"\n",
        "b = 'hello'\n",
        "print(type(a), type(b))"
      ],
      "metadata": {
        "colab": {
          "base_uri": "https://localhost:8080/"
        },
        "id": "YHGcupp5H1g7",
        "outputId": "484e3fcb-a640-49ea-dedd-ea8fe4d63ca1"
      },
      "execution_count": 29,
      "outputs": [
        {
          "output_type": "stream",
          "name": "stdout",
          "text": [
            "<class 'str'> <class 'str'>\n"
          ]
        }
      ]
    },
    {
      "cell_type": "code",
      "source": [
        "a = \"hello\"\n",
        "b = 'hello'\n",
        "print(a+b)"
      ],
      "metadata": {
        "colab": {
          "base_uri": "https://localhost:8080/"
        },
        "id": "xn958Ux5H3sz",
        "outputId": "5627fda1-00dd-4233-b8a8-fdd66143771c"
      },
      "execution_count": 30,
      "outputs": [
        {
          "output_type": "stream",
          "name": "stdout",
          "text": [
            "hellohello\n"
          ]
        }
      ]
    },
    {
      "cell_type": "code",
      "source": [
        "a = str(5)\n",
        "print(a*5)"
      ],
      "metadata": {
        "colab": {
          "base_uri": "https://localhost:8080/"
        },
        "id": "5d5S4cIDIEk7",
        "outputId": "b1ad7baf-5468-45bc-9172-1ca92ae05135"
      },
      "execution_count": 32,
      "outputs": [
        {
          "output_type": "stream",
          "name": "stdout",
          "text": [
            "55555\n"
          ]
        }
      ]
    },
    {
      "cell_type": "markdown",
      "source": [
        "input()練習"
      ],
      "metadata": {
        "id": "WaIEBpeNIOju"
      }
    },
    {
      "cell_type": "code",
      "source": [
        "inp = input(\"輸入數字\")\n",
        "print(inp)\n",
        "print(type(inp))"
      ],
      "metadata": {
        "colab": {
          "base_uri": "https://localhost:8080/"
        },
        "id": "Yxd3cMk9ISjf",
        "outputId": "76fc5b15-1bda-4937-abd0-cc613eb8f626"
      },
      "execution_count": 33,
      "outputs": [
        {
          "output_type": "stream",
          "name": "stdout",
          "text": [
            "輸入數字60\n",
            "60\n",
            "<class 'str'>\n"
          ]
        }
      ]
    },
    {
      "cell_type": "markdown",
      "source": [
        "eval運用"
      ],
      "metadata": {
        "id": "8xMgioBsIuUW"
      }
    },
    {
      "cell_type": "code",
      "source": [
        "i = int(input(\"輸入數學成績\"))\n",
        "n = int(input(\"輸入國文成績\"))\n",
        "t = int(input(\"輸入英文成績\"))\n",
        "\n",
        "sum = (i+n+t)\n",
        "avg = (sum/3)\n",
        "\n",
        "print(\"數學成績:\", i)\n",
        "print(\"國文成績:\", n)\n",
        "print(\"英文成績:\", t)\n",
        "print(\"總成績為:{} 平均分數:{}\".format(sum, avg))"
      ],
      "metadata": {
        "colab": {
          "base_uri": "https://localhost:8080/"
        },
        "id": "M4u4Nu8yInbQ",
        "outputId": "e6d59786-ab52-40d3-dffb-9cec7d3730b1"
      },
      "execution_count": 38,
      "outputs": [
        {
          "output_type": "stream",
          "name": "stdout",
          "text": [
            "輸入數學成績60\n",
            "輸入國文成績60\n",
            "輸入英文成績100\n",
            "數學成績: 60\n",
            "國文成績: 60\n",
            "英文成績: 100\n",
            "總成績為:220 平均分數:73.33333333333333\n"
          ]
        }
      ]
    }
  ]
}